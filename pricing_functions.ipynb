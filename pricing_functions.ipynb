{
 "cells": [
  {
   "cell_type": "code",
   "execution_count": 1,
   "metadata": {},
   "outputs": [],
   "source": [
    "def get_airbnb_data(city, calendar=True, listings=True, reviews=False):\n",
    "    \n",
    "    \"\"\"\n",
    "    Get Calendar, listings and reviews data for a city\n",
    "    \n",
    "    INPUT\n",
    "    city (string) - city to fetch data for\n",
    "    calendar (boolean, default True) - whether to fetch calendar data, default True\n",
    "    listings (boolean, default True) - whether to fetch listings data, default True\n",
    "    reviews (boolean, default True) -  whether to fetch reviews data, default True\n",
    "    \n",
    "    OUTPUT\n",
    "    data (list) - list containing pandas Dataframes of data (calendar data, listing data etc)\n",
    "    \"\"\"\n",
    "    data = []\n",
    "    \n",
    "    #check which data is required and fetch it\n",
    "    if calendar:\n",
    "        data.append(pd.read_csv(os.path.join(city,'calendar.csv')))\n",
    "    if listings:\n",
    "        data.append(pd.read_csv(os.path.join(city, 'listings.csv')))\n",
    "    if reviews:\n",
    "        data.append(pd.read_csv(os.path.join(city, 'reviews.csv')))\n",
    "        \n",
    "    return data"
   ]
  },
  {
   "cell_type": "code",
   "execution_count": null,
   "metadata": {},
   "outputs": [],
   "source": []
  }
 ],
 "metadata": {
  "kernelspec": {
   "display_name": "Python 3",
   "language": "python",
   "name": "python3"
  },
  "language_info": {
   "codemirror_mode": {
    "name": "ipython",
    "version": 3
   },
   "file_extension": ".py",
   "mimetype": "text/x-python",
   "name": "python",
   "nbconvert_exporter": "python",
   "pygments_lexer": "ipython3",
   "version": "3.6.4"
  }
 },
 "nbformat": 4,
 "nbformat_minor": 2
}
